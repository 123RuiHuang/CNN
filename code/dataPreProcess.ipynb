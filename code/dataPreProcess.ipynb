import csv
import pandas as pd
import matplotlib.pyplot as plt
import numpy as np
import random

# convert csv to array and store as np array

data = pd.read_csv("C:\\Users\\FengH\\Desktop\\RUI\\fer2013\\fer2013.csv")
imgs = list(data['pixels'])
labels = list(data['emotion'])

#initialize
imgs_train = np.zeros(shape=[28709,2304])
imgs_test_public = np.zeros(shape=[3589,2304])
imgs_test_private = np.zeros(shape=[3589,2304])
imgs_train_flip = np.zeros(shape=[28709,2304]) # flip training img
imgs_train_originAndflip_crop = np.zeros(shape = [2*28709,1600]) # combine imgs_train and imgs_train_flip and then crop them
labels_train_originAndflip_crop = np.zeros(shape = [2*28709,1],dtype = int)

labels_train = np.zeros(shape=[28709,1],dtype = int)
labels_test_public = np.zeros(shape=[3589,1],dtype = int)
labels_test_private = np.zeros(shape=[3589,1],dtype = int)


def convertToVec(string):
    vec = string.split(" ")
    for i in range(len(vec)):
        vec[i] = int(vec[i])
    return vec
        
    
for i in range(len(imgs)):
    img = imgs[i]
    label = labels[i]
    img = convertToVec(img)
    if i < 28709:
        imgs_train[i] = img
        labels_train[i] = label
    elif i < 32298:
        imgs_test_public[i - 28709] = img
        labels_test_public[i - 28709] = label
    else:
        imgs_test_private[i - 32298] = img
        labels_test_private[i - 32298] = label
 
np.save("C:\\Users\\FengH\\Desktop\\RUI\\data\\original_data\\imgs_train.npy",imgs_train)
np.save("C:\\Users\\FengH\\Desktop\\RUI\\data\\original_data\\imgs_test_public.npy",imgs_test_public)
np.save("C:\\Users\\FengH\\Desktop\\RUI\\data\\original_data\\imgs_test_private.npy",imgs_test_private)

np.save("C:\\Users\\FengH\\Desktop\\RUI\\data\\original_data\\labels_train.npy",labels_train)
np.save("C:\\Users\\FengH\\Desktop\\RUI\\data\\original_data\\labels_test_public.npy",labels_test_public)
np.save("C:\\Users\\FengH\\Desktop\\RUI\\data\\original_data\\labels_test_private.npy",labels_test_private)
print("convert csv to imgs done!")



for i in range(len(imgs_train)):
    temp = imgs_train[i]
    temp = np.reshape(temp,[48,48])
    temp = np.fliplr(temp)
    temp = np.reshape(temp,[1,48*48])
    imgs_train_flip[i] = temp

for i in range(len(imgs_train)):
    img = imgs_train[i]
    img_flip = imgs_train_flip[i]
    img = np.reshape(img,[48,48])
    img_flip = np.reshape(img_flip,[48,48])
    num1 = random.randint(1,4)
    num2 = random.randint(1,4)
    if num1 == 1:
        img = img[0:40,0:40]
    if num1 == 2:
        img = img[0:40,8:48]
    if num1 == 3:
        img = img[8:48,8:48]
    if num1 == 4:
        img = img[8:48,0:40]
    
    if num2 == 1:
        img_flip = img_flip[0:40,0:40]
    if num2 == 2:
        img_flip = img_flip[0:40,8:48]
    if num2 == 3:
        img_flip = img_flip[8:48,8:48]
    if num2 == 4:
        img_flip = img_flip[8:48,0:40]
    img = np.reshape(img,40*40)
    img_flip = np.reshape(img_flip,40*40)
    imgs_train_originAndflip_crop[2 * i] = img
    imgs_train_originAndflip_crop[2 * i + 1] = img_flip
    labels_train_originAndflip_crop[2 * i] = labels_train[i]
    labels_train_originAndflip_crop[2 * i + 1] = labels_train[i]

np.save("C:\\Users\\FengH\\Desktop\\RUI\\data\\data_processed\\imgs_train_originAndflip_crop.npy",imgs_train_originAndflip_crop)
np.save("C:\\Users\\FengH\\Desktop\\RUI\\data\\data_processed\\labels_train_originAndflip_crop.npy",labels_train_originAndflip_crop)

print("processing training imgs done!")

imgs_test_public_crop = np.zeros(shape=[len(imgs_test_public),1600])
for i in range(len(imgs_test_public_crop)):
    num = random.randint(1,4)
    img = imgs_test_public[i]
    img = np.reshape(img,[48,48])
    if num == 1:
        img = img[0:40,0:40]
    if num == 2:
        img = img[0:40,8:48]
    if num == 3:
        img = img[8:48,8:48]
    if num == 4:
        img = img[8:48,0:40]
    img = np.reshape(img,40*40)
    imgs_test_public_crop[i] = img

np.save("C:\\Users\\FengH\\Desktop\\RUI\\data\\data_processed\\imgs_test_public_crop.npy",imgs_test_public_crop)

print("processing test imgs done!")

"""
    
imgs_train = np.load("C:\\Users\\FengH\\Desktop\\RUI\\data\\data_processed\\imgs_train_originAndflip_crop.npy")
labels_train = np.load("C:\\Users\\FengH\\Desktop\\RUI\\data\\data_processed\\labels_train_originAndflip_crop.npy")
                     
imgs_test = np.load("C:\\Users\\FengH\\Desktop\\RUI\\data\\data_processed\\imgs_test_public_crop.npy")
labels_test = np.load("C:\\Users\\FengH\\Desktop\\RUI\\data\\data_processed\\labels_test_public_crop.npy")

i = 8
j = 1

img1 = imgs_train[i]
img2 = imgs_train[i + 1]

img1 = np.reshape(img1,[40,40])
img2 = np.reshape(img2,[40,40])

label1 = labels_train[i]
label2 = labels_train[i + 1]
plt.figure()
plt.imshow(img1,cmap='gray')
plt.figure()
plt.imshow(img2,cmap='gray')
print(label1)
print(label2)

img1 = imgs_test[j]
img2 = imgs_test[j + 1]

img1 = np.reshape(img1,[40,40])
img2 = np.reshape(img2,[40,40])

label1 = labels_test[j]
label2 = labels_test[j + 1]
plt.figure()
plt.imshow(img1,cmap='gray')
plt.figure()
plt.imshow(img2,cmap='gray')
print(label1)
print(label2)
"""


        


