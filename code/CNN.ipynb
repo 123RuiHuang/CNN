import numpy as np
import tensorflow as tf


class Dataset:
    def __init__(self, data, label):
        self._index_in_epoch = 0
        self._epochs_completed = 0
        self._data = data
        self._label = label
        self._num_examples = data.shape[0]
        pass

    @property
    def data(self):
        return self._data

    @property
    def label(self):
        return self._label

    def next_batch(self, batch_size, shuffle = True):
        start = self._index_in_epoch
        if start == 0 and self._epochs_completed == 0:
            idx = np.arange(0, self._num_examples)  # get all possible indexes
            np.random.shuffle(idx)  # shuffle index
            self._data = self.data[idx]  # get list of `num` random samples
            self._label = self.label[idx]
            #  go to the next batch
        if start + batch_size > self._num_examples:
            self._epochs_completed += 1
            rest_num_examples = self._num_examples - start
            data_rest_part = self.data[start:self._num_examples]
            label_rest_part = self.label[start:self._num_examples]
            idx0 = np.arange(0, self._num_examples)  # get all possible indexes
            np.random.shuffle(idx0)  # shuffle indexes
            self._data = self.data[idx0]  # get list of `num` random samples
            self._label = self.label[idx0]
            start = 0
            self._index_in_epoch = batch_size - rest_num_examples   # avoid the case where the # sample != integar times of batch_size
            end = self._index_in_epoch
            data_new_part = self._data[start:end]
            label_new_part = self._label[start:end]
            return np.concatenate((data_rest_part, data_new_part), axis=0), np.concatenate((label_rest_part, label_new_part), axis=0)
        else:
            self._index_in_epoch += batch_size
            end = self._index_in_epoch
            return self._data[start:end], self._label[start:end]


def indices_to_one_hot(data, nb_classes):
    """Convert an iterable of indices to one-hot encoded labels."""
    targets = np.array(data).reshape(-1)
    return np.eye(nb_classes)[targets]


def split_data(data, split):
    idx = np.arange(0, len(data.data))
    np.random.shuffle(idx)
    train_samples = int(len(data.data) / (1 / split))
    traindata = data.data[idx[: train_samples]]
    validationdata = data.data[idx[train_samples:]]
    trainlabel = data.label[idx[: train_samples]]
    vallabel = data.label[idx[train_samples:]]
    train = Dataset(traindata, trainlabel)
    Val = Dataset(validationdata, vallabel)
    return train, Val


def weight_variable(shape):
  initial = tf.truncated_normal(shape, stddev=0.1)
  return tf.Variable(initial)


def bias_variable(shape):
  initial = tf.constant(0.1, shape=shape)
  return tf.Variable(initial)


def conv2d(x, W):
  return tf.nn.conv2d(x, W, strides=[1, 1, 1, 1], padding='SAME')


def max_pool_2x2(x):
  return tf.nn.max_pool(x, ksize=[1, 2, 2, 1],
                        strides=[1, 2, 2, 1], padding='SAME')


labels_test = np.load("../../data/data_processed/labels_test_public_crop.npy")

labels_train = np.load("../../data/data_processed/labels_train_originAndflip_crop.npy")

images_test = np.load("../../data/data_processed/imgs_test_public_crop.npy")
images_train = np.load("../../data/data_processed/imgs_train_originAndflip_crop.npy")
images_test = images_test/255
images_train = images_train/255  # Normalization
outclass = 7
accuracy_train = []
accuracy_validation = []
accuracy_test = []
labels_test = indices_to_one_hot(labels_test, outclass)
labels_train = indices_to_one_hot(labels_train, outclass)
Transplit = 0.98
train_data = Dataset(images_train,labels_train)
data_tr, data_val = split_data(train_data, Transplit)

with tf.name_scope('input'):
    x = tf.placeholder(tf.float32, shape=[None, 1600], name='x_input')
    y_ = tf.placeholder(tf.float32, shape=[None, 7], name='y_input')
#W = tf.Variable(tf.zeros([1600, 7]))
#b = tf.Variable(tf.zeros([7]))


with tf.name_scope('imput_image'):
    x_image = tf.reshape(x, [-1, 40, 40, 1])
    tf.summary.image('input', x_image, 10)
#build network

W_conv1 = weight_variable([5, 5, 1, 32])
b_conv1 = bias_variable([32])
h_conv1 = tf.nn.relu(conv2d(x_image, W_conv1) + b_conv1)
h_pool1 = max_pool_2x2(h_conv1) # 20 * 20 * 32

W_conv2 = weight_variable([4, 4, 32, 32])
b_conv2 = bias_variable([32])
h_conv2 = tf.nn.relu(conv2d(h_pool1, W_conv2) + b_conv2)
h_pool2 = max_pool_2x2(h_conv2) # 10 * 10 * 32

W_conv3 = weight_variable([5, 5, 32, 64])
b_conv3 = bias_variable([64])
h_conv3 = tf.nn.relu(conv2d(h_pool2, W_conv3) + b_conv3)
h_pool3 = max_pool_2x2(h_conv3) # 5 * 5 * 64

W_fc1 = weight_variable([5 * 5 * 64, 2048])
b_fc1 = bias_variable([2048])
h_pool3_flat = tf.reshape(h_pool3, [-1, 5 * 5 * 64])
h_fc1 = tf.nn.relu(tf.matmul(h_pool3_flat, W_fc1) + b_fc1)
keep_prob = tf.placeholder(tf.float32)
h_fc1_drop = tf.nn.dropout(h_fc1, keep_prob)

W_fc2 = weight_variable([2048, 1024])
b_fc2 = bias_variable([1024])
h_fc2 = tf.nn.relu(tf.matmul(h_fc1_drop, W_fc2) + b_fc2)
h_fc2_drop = tf.nn.dropout(h_fc2, keep_prob)

W_fc3 = weight_variable([1024, 7])
b_fc3 = bias_variable([7])

y_conv = tf.matmul(h_fc2_drop, W_fc3) + b_fc3
y = tf.nn.softmax(y_conv)

with tf.name_scope('cross_entropy'):
    cross_entropy = tf.reduce_mean(
        tf.nn.softmax_cross_entropy_with_logits(labels=y_, logits=y_conv))


train_step = tf.train.AdamOptimizer(5e-4).minimize(cross_entropy)


with tf.name_scope('correct_prediction'):
    correct_prediction = tf.equal(tf.argmax(y, 1), tf.argmax(y_, 1))
with tf.name_scope('accuracy'):
    accuracy = tf.reduce_mean(tf.cast(correct_prediction, tf.float32))

sess = tf.Session()

sess.run(tf.global_variables_initializer())

with tf.Session() as sess:
    sess.run(tf.global_variables_initializer())
    for i in range(60000):
        train_feed = data_tr.next_batch(50)
        temp1 = train_feed[0]
        temp2 = train_feed[1]
        if i % 100 == 0:
            train_accuracy = accuracy.eval(feed_dict={
                x: train_feed[0], y_: train_feed[1], keep_prob: 1.0})
            accuracy_train.append(train_accuracy)
            
            val_accuracy = accuracy.eval(feed_dict={
                 x: data_val.data, y_: data_val.label, keep_prob: 1.0})
            accuracy_validation.append(val_accuracy)
            
            test_accuracy = accuracy.eval(feed_dict={x: images_test, y_: labels_test, keep_prob: 1.0})
            accuracy_test.append(test_accuracy)
            
            print("step %d, training accuracy %g validation accuracy %g test accuracy %g " % (i, train_accuracy,val_accuracy,test_accuracy))

        
        sess.run([train_step],feed_dict={x: train_feed[0], y_: train_feed[1], keep_prob: 0.4})
      
    test_accuracy = accuracy.eval(feed_dict={x: images_test, y_: labels_test, keep_prob: 1.0})
    print(test_accuracy)

